{
 "metadata": {
  "language_info": {
   "codemirror_mode": {
    "name": "ipython",
    "version": 3
   },
   "file_extension": ".py",
   "mimetype": "text/x-python",
   "name": "python",
   "nbconvert_exporter": "python",
   "pygments_lexer": "ipython3",
   "version": 3
  },
  "orig_nbformat": 2
 },
 "nbformat": 4,
 "nbformat_minor": 2,
 "cells": [
  {
   "cell_type": "code",
   "execution_count": null,
   "metadata": {},
   "outputs": [],
   "source": [
    "from keras.preprocessing.image import ImageDataGenerator, load_img, img_to_array\n",
    "from keras.models import Sequential\n",
    "from keras.layers import Dropout,Flatten, Dense\n",
    "from keras import applications\n",
    "from keras.utils.np_utils import to_categorical\n",
    "import operator\n",
    "import matplotlib.pyplot as plt\n",
    "import numpy as np\n",
    "from math import ceil\n",
    "from keras.callbacks import EarlyStopping, ModelCheckpoint"
   ]
  },
  {
   "cell_type": "code",
   "execution_count": null,
   "metadata": {},
   "outputs": [],
   "source": [
    "#Tweakable\n",
    "epochs = 5\n",
    "batch_size = 16\n",
    "\n",
    "#Constants\n",
    "target_img_width, target_img_height = 224, 224\n",
    "train_dir = '/dataset/split_data/train/'\n",
    "val_dir = '/dataset/split_data/validation/'\n",
    "test_dir = '/dataset/split_data/test/'\n",
    "vgg_train_features_file = \"res/vgg_train_features.npy\"\n",
    "vgg_val_features_file = \"res/vgg_val_features.npy\"\n",
    "vgg_test_features_file = \"res/vgg_test_features.npy\"\n",
    "num_classes = 10\n",
    "top_model_weights_path = 'res/_top_model_weights.h5'"
   ]
  }
 ]
}